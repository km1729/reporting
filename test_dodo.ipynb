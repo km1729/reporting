{
 "cells": [
  {
   "cell_type": "code",
   "execution_count": 1,
   "metadata": {},
   "outputs": [],
   "source": [
    "import ipytest\n",
    "ipytest.autoconfig()"
   ]
  },
  {
   "cell_type": "code",
   "execution_count": 23,
   "metadata": {},
   "outputs": [
    {
     "name": "stdout",
     "output_type": "stream",
     "text": [
      "scratch dp9 --project\n",
      "scratch dx2 --project\n",
      "scratch hd50 --project\n",
      "gdata dp9 --group\n",
      "gdata ig2 --group\n"
     ]
    }
   ],
   "source": [
    "projects = {\n",
    "    'scratch' : ['dp9','dx2','hd50'],\n",
    "    'gdata' : ['dp9','ig2']\n",
    "}\n",
    "def storage2 (**kwargs):\n",
    "    for mount, projects in kwargs.items():\n",
    "        if mount == 'scratch':\n",
    "            type = '--project'\n",
    "        else:\n",
    "            type='--group'\n",
    "            \n",
    "        for project in projects:\n",
    "            print(mount, project, type)\n",
    "storage2(**projects)"
   ]
  },
  {
   "cell_type": "code",
   "execution_count": 22,
   "metadata": {},
   "outputs": [
    {
     "name": "stdout",
     "output_type": "stream",
     "text": [
      "\u001b[32m.\u001b[0m\u001b[32m                                                                                            [100%]\u001b[0m\n",
      "\u001b[32m\u001b[32m\u001b[1m1 passed\u001b[0m\u001b[32m in 0.01s\u001b[0m\u001b[0m\n"
     ]
    }
   ],
   "source": [
    "%%ipytest\n",
    "def storage (**kwargs):\n",
    "    for mount, projects in kwargs.items():\n",
    "        if mount == 'scratch':\n",
    "            type = '--project'\n",
    "        else:\n",
    "            type='--group'\n",
    "            \n",
    "        for project in projects:\n",
    "            print(mount, project, type)\n",
    "            return type\n",
    "\n",
    "def test_answer():\n",
    "    scratch = {'scratch':'dp9'}\n",
    "    gdata = {'gdata':'dp9'}\n",
    "    assert storage(**scratch) =='--project'\n",
    "    assert storage(**gdata) =='--group'"
   ]
  },
  {
   "cell_type": "code",
   "execution_count": 18,
   "metadata": {},
   "outputs": [
    {
     "name": "stdout",
     "output_type": "stream",
     "text": [
      "scratch dp9 --project\n"
     ]
    },
    {
     "data": {
      "text/plain": [
       "'--project'"
      ]
     },
     "execution_count": 18,
     "metadata": {},
     "output_type": "execute_result"
    }
   ],
   "source": [
    "storage(**projects)"
   ]
  }
 ],
 "metadata": {
  "kernelspec": {
   "display_name": "Python 3.9.12 ('base')",
   "language": "python",
   "name": "python3"
  },
  "language_info": {
   "codemirror_mode": {
    "name": "ipython",
    "version": 3
   },
   "file_extension": ".py",
   "mimetype": "text/x-python",
   "name": "python",
   "nbconvert_exporter": "python",
   "pygments_lexer": "ipython3",
   "version": "3.9.12"
  },
  "orig_nbformat": 4,
  "vscode": {
   "interpreter": {
    "hash": "51480fad90fe9d21f60dbdf1474e71297e9cf7d519346d7c8ab062a40f50e1c0"
   }
  }
 },
 "nbformat": 4,
 "nbformat_minor": 2
}
